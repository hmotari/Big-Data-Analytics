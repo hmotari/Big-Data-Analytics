{
 "cells": [
  {
   "cell_type": "code",
   "execution_count": 1,
   "id": "e89bf424-f975-4393-87ba-e55d1f73eca1",
   "metadata": {},
   "outputs": [
    {
     "name": "stdout",
     "output_type": "stream",
     "text": [
      "Collecting pyspark==3.2.2\n",
      "  Downloading pyspark-3.2.2.tar.gz (281.5 MB)\n",
      "\u001b[2K     \u001b[90m━━━━━━━━━━━━━━━━━━━━━━━━━━━━━━━━━━━━━━━\u001b[0m \u001b[32m281.5/281.5 MB\u001b[0m \u001b[31m5.2 MB/s\u001b[0m eta \u001b[36m0:00:00\u001b[0m00:01\u001b[0m00:01\u001b[0m\n",
      "\u001b[?25h  Preparing metadata (setup.py) ... \u001b[?25ldone\n",
      "\u001b[?25hCollecting py4j==0.10.9.5 (from pyspark==3.2.2)\n",
      "  Downloading py4j-0.10.9.5-py2.py3-none-any.whl.metadata (1.5 kB)\n",
      "Downloading py4j-0.10.9.5-py2.py3-none-any.whl (199 kB)\n",
      "\u001b[2K   \u001b[90m━━━━━━━━━━━━━━━━━━━━━━━━━━━━━━━━━━━━━━━━\u001b[0m \u001b[32m199.7/199.7 kB\u001b[0m \u001b[31m5.8 MB/s\u001b[0m eta \u001b[36m0:00:00\u001b[0m\n",
      "\u001b[?25hBuilding wheels for collected packages: pyspark\n",
      "  Building wheel for pyspark (setup.py) ... \u001b[?25ldone\n",
      "\u001b[?25h  Created wheel for pyspark: filename=pyspark-3.2.2-py2.py3-none-any.whl size=281969434 sha256=86d522088f15961fe9c7c0ee69414ecad41082b7171b70160a4b3e61e5164eb9\n",
      "  Stored in directory: /home/jovyan/.cache/pip/wheels/84/42/fa/5339cf0197ee3f87cf713e440a581889f343da6d24e04e866a\n",
      "Successfully built pyspark\n",
      "Installing collected packages: py4j, pyspark\n",
      "Successfully installed py4j-0.10.9.5 pyspark-3.2.2\n",
      "Note: you may need to restart the kernel to use updated packages.\n"
     ]
    }
   ],
   "source": [
    "pip install pyspark==3.2.2"
   ]
  },
  {
   "cell_type": "code",
   "execution_count": null,
   "id": "1feeb288-40e3-4b72-a412-f642cdb11a68",
   "metadata": {},
   "outputs": [],
   "source": []
  },
  {
   "cell_type": "code",
   "execution_count": 4,
   "id": "308810e6-4147-475d-abe0-697bef88d534",
   "metadata": {},
   "outputs": [],
   "source": [
    "from pyspark.sql import SparkSession"
   ]
  },
  {
   "cell_type": "code",
   "execution_count": 5,
   "id": "3f7bf62c-59f9-4d90-be42-4fdf40698d27",
   "metadata": {},
   "outputs": [],
   "source": [
    "spark = SparkSession.builder \\\n",
    "    .appName(\"Assignment\") \\\n",
    "    .getOrCreate()"
   ]
  },
  {
   "cell_type": "code",
   "execution_count": 6,
   "id": "9646a7ed-378d-4cc5-84bf-2305a9681891",
   "metadata": {},
   "outputs": [
    {
     "data": {
      "text/plain": [
       "DataFrame[CustomerID: int, ProductID: int, Amount: int, Date: string]"
      ]
     },
     "execution_count": 6,
     "metadata": {},
     "output_type": "execute_result"
    }
   ],
   "source": [
    "transactions = spark.read.csv(\"/home/jovyan/data//store_transactions.csv\", header=True, inferSchema=True)\n",
    "transactions\n"
   ]
  },
  {
   "cell_type": "code",
   "execution_count": 7,
   "id": "b96652ff-4b30-499f-9f72-b72b2b7cffda",
   "metadata": {},
   "outputs": [
    {
     "data": {
      "text/plain": [
       "DataFrame[CustomerID: int, Age: double, Salary: int, Gender: string, Country: string]"
      ]
     },
     "execution_count": 7,
     "metadata": {},
     "output_type": "execute_result"
    }
   ],
   "source": [
    "customers = spark.read.csv(\"/home/jovyan/data//retailstore_5mn.csv\", header=True, inferSchema=True)\n",
    "customers"
   ]
  },
  {
   "cell_type": "code",
   "execution_count": 8,
   "id": "f9e1ca74-92bf-4a32-82a7-74362841c93e",
   "metadata": {},
   "outputs": [
    {
     "name": "stdout",
     "output_type": "stream",
     "text": [
      "+----------+---------+------+----------+\n",
      "|CustomerID|ProductID|Amount|      Date|\n",
      "+----------+---------+------+----------+\n",
      "|      3427|        3|  7541|22-11-2019|\n",
      "|      4378|       14|  7271|15-12-2019|\n",
      "|      3751|       47|  4276|20-11-2019|\n",
      "|      6899|      146|  8923|22-11-2019|\n",
      "|      4561|       46|  4891|30-11-2019|\n",
      "|      2299|      143|  7545|05-12-2019|\n",
      "|       553|       43|  1147|08-12-2019|\n",
      "|      3406|      134|   245|12-12-2019|\n",
      "|      5278|       34|  8765|09-12-2019|\n",
      "|      2456|       68|  3820|30-11-2019|\n",
      "|      6963|       58|  1850|27-11-2019|\n",
      "|      4700|      140|  3948|27-11-2019|\n",
      "|      3566|       76|   401|17-12-2019|\n",
      "|      2212|       38|  4750|16-12-2019|\n",
      "|      4677|       18|  1149|18-11-2019|\n",
      "|      4295|       35|  3241|19-11-2019|\n",
      "|      4228|       91|  6405|01-12-2019|\n",
      "|      2466|       83|  2978|10-12-2019|\n",
      "|      3136|       67|  6581|28-11-2019|\n",
      "|      6563|       80|  2878|21-11-2019|\n",
      "+----------+---------+------+----------+\n",
      "only showing top 20 rows\n",
      "\n",
      "root\n",
      " |-- CustomerID: integer (nullable = true)\n",
      " |-- ProductID: integer (nullable = true)\n",
      " |-- Amount: integer (nullable = true)\n",
      " |-- Date: string (nullable = true)\n",
      "\n"
     ]
    }
   ],
   "source": [
    "transactions.show()\n",
    "transactions.printSchema()"
   ]
  },
  {
   "cell_type": "code",
   "execution_count": 9,
   "id": "be7fb7f5-8a6f-46d2-a068-2caa42f206f4",
   "metadata": {},
   "outputs": [
    {
     "name": "stdout",
     "output_type": "stream",
     "text": [
      "+----------+-----------+------+------+-------+\n",
      "|CustomerID|        Age|Salary|Gender|Country|\n",
      "+----------+-----------+------+------+-------+\n",
      "|         1|       18.0| 20000|  Male|Germany|\n",
      "|         2|       19.0| 22000|Female| France|\n",
      "|         3|       20.0| 24000|Female|England|\n",
      "|         4|       21.0|  2600|  Male|England|\n",
      "|         5|       22.0| 50000|  Male| France|\n",
      "|         6|       23.0| 35000|Female|England|\n",
      "|         7|       24.0|  4300|  Male|Germany|\n",
      "|         8|       25.0| 32000|Female| France|\n",
      "|         9|       35.0| 35000|  Male|Germany|\n",
      "|        10|       27.0| 37000|Female| France|\n",
      "|        11|       31.0| 25000|  Male|Germany|\n",
      "|        12|32.38181818| 27000|Female| France|\n",
      "|        13|33.76363636| 29000|Female|England|\n",
      "|        14|35.14545455|  7600|  Male|England|\n",
      "|        15|36.52727273| 55000|  Male| France|\n",
      "|        16|37.90909091| 40000|Female|England|\n",
      "|        17|39.29090909|  9300|  Male|Germany|\n",
      "|        18|40.67272727| 37000|Female| France|\n",
      "|        19|42.05454545| 40000|  Male|Germany|\n",
      "|        20|43.43636364| 42000|Female| France|\n",
      "+----------+-----------+------+------+-------+\n",
      "only showing top 20 rows\n",
      "\n",
      "root\n",
      " |-- CustomerID: integer (nullable = true)\n",
      " |-- Age: double (nullable = true)\n",
      " |-- Salary: integer (nullable = true)\n",
      " |-- Gender: string (nullable = true)\n",
      " |-- Country: string (nullable = true)\n",
      "\n"
     ]
    }
   ],
   "source": [
    "customers.show()\n",
    "customers.printSchema()"
   ]
  },
  {
   "cell_type": "code",
   "execution_count": 10,
   "id": "463a13c5-8800-4db4-8ca7-e9d9e63a10fb",
   "metadata": {},
   "outputs": [],
   "source": [
    "\n",
    "from pyspark.sql.functions import col"
   ]
  },
  {
   "cell_type": "code",
   "execution_count": 11,
   "id": "35607479-99d0-4740-83d8-820c4df31029",
   "metadata": {},
   "outputs": [],
   "source": [
    "## to make sure the column customer id in both datasets is of the same data type. we are casting the columns as string because its safer and no mathematical operations is allowed in the columns with IDs\n",
    "transactions = transactions.withColumn(\"CustomerID\", col(\"CustomerID\").cast(\"string\"))\n",
    "customers = customers.withColumn(\"CustomerID\", col(\"CustomerID\").cast(\"string\"))"
   ]
  },
  {
   "cell_type": "code",
   "execution_count": 12,
   "id": "bfb3baf0-bcf0-4167-aa8b-490adf0ba519",
   "metadata": {},
   "outputs": [
    {
     "name": "stdout",
     "output_type": "stream",
     "text": [
      "+----------+---------+------+----------+----+------+------+-------+\n",
      "|CustomerID|ProductID|Amount|      Date| Age|Salary|Gender|Country|\n",
      "+----------+---------+------+----------+----+------+------+-------+\n",
      "|         1|       41|  7363|12-12-2019|18.0| 20000|  Male|Germany|\n",
      "|         1|        9|  6621|11-12-2019|18.0| 20000|  Male|Germany|\n",
      "|         1|       95|  5870|02-12-2019|18.0| 20000|  Male|Germany|\n",
      "|         1|       92|   358|01-12-2019|18.0| 20000|  Male|Germany|\n",
      "|         1|       26|  9162|29-11-2019|18.0| 20000|  Male|Germany|\n",
      "+----------+---------+------+----------+----+------+------+-------+\n",
      "only showing top 5 rows\n",
      "\n"
     ]
    }
   ],
   "source": [
    "## combining two datasets using CustomerID keeping only matching customerIDs\n",
    "retail = transactions.join(customers, on=\"CustomerID\", how=\"inner\")\n",
    "retail.show(5)"
   ]
  },
  {
   "cell_type": "code",
   "execution_count": 13,
   "id": "a9cb924e-886d-4196-90b6-05d3a3999809",
   "metadata": {},
   "outputs": [
    {
     "name": "stdout",
     "output_type": "stream",
     "text": [
      "+-------+------------------+------------------+------------------+----------+------------------+------------------+------+-------+\n",
      "|summary|        CustomerID|         ProductID|            Amount|      Date|               Age|            Salary|Gender|Country|\n",
      "+-------+------------------+------------------+------------------+----------+------------------+------------------+------+-------+\n",
      "|  count|            512545|            512545|            512545|    512545|            512545|            512545|512545| 512545|\n",
      "|   mean| 3510.169799724902| 50.47707030602191| 4985.914700172668|      NULL|55.033391303569154|  35313.2973690115|  NULL|   NULL|\n",
      "| stddev|2015.3945609135437|28.871111427285967|2889.4312777274986|      NULL| 7.406810830690359|14990.171075136997|  NULL|   NULL|\n",
      "|    min|                 1|                 1|                 1|01-12-2019|              18.0|              2600|Female|England|\n",
      "|    max|               999|               146|             10000|30-11-2019|       66.92727273|             65000|  Male|Germany|\n",
      "+-------+------------------+------------------+------------------+----------+------------------+------------------+------+-------+\n",
      "\n"
     ]
    }
   ],
   "source": [
    "retail.describe().show()"
   ]
  },
  {
   "cell_type": "code",
   "execution_count": 14,
   "id": "8386780c-9b19-4ed2-a56b-1e7394ff4c14",
   "metadata": {},
   "outputs": [
    {
     "name": "stdout",
     "output_type": "stream",
     "text": [
      "root\n",
      " |-- CustomerID: string (nullable = true)\n",
      " |-- ProductID: integer (nullable = true)\n",
      " |-- Amount: integer (nullable = true)\n",
      " |-- Date: string (nullable = true)\n",
      " |-- Age: double (nullable = true)\n",
      " |-- Salary: integer (nullable = true)\n",
      " |-- Gender: string (nullable = true)\n",
      " |-- Country: string (nullable = true)\n",
      "\n"
     ]
    }
   ],
   "source": [
    "retail.printSchema() "
   ]
  },
  {
   "cell_type": "code",
   "execution_count": 15,
   "id": "a5c0f26d-7408-4114-bcd8-ab7c76421e43",
   "metadata": {},
   "outputs": [],
   "source": [
    "## Converting Date from string variable to date format\n",
    "from pyspark.sql.functions import to_date, year, month, dayofweek\n",
    "\n",
    "retail = retail.withColumn(\"Date\", to_date(\"Date\", \"dd-MM-yyyy\"))"
   ]
  },
  {
   "cell_type": "code",
   "execution_count": 16,
   "id": "fe21d722-3540-41c4-8b6d-53a602276e95",
   "metadata": {},
   "outputs": [
    {
     "name": "stdout",
     "output_type": "stream",
     "text": [
      "CustomerID has 0 null values\n",
      "ProductID has 0 null values\n",
      "Amount has 0 null values\n",
      "Date has 0 null values\n",
      "Age has 0 null values\n",
      "Salary has 0 null values\n",
      "Gender has 0 null values\n",
      "Country has 0 null values\n"
     ]
    }
   ],
   "source": [
    "## to check the number of missing values in each column\n",
    "from pyspark.sql.functions import col\n",
    "for column in retail.columns:\n",
    "    null_count = retail.filter(col(column).isNull()).count()\n",
    "    print(f\"{column} has {null_count} null values\")"
   ]
  },
  {
   "cell_type": "code",
   "execution_count": 17,
   "id": "189d8bc3-0990-40a6-99c6-75b32aaa59de",
   "metadata": {},
   "outputs": [
    {
     "name": "stdout",
     "output_type": "stream",
     "text": [
      "Total Rows: 512545\n",
      "Unique Rows: 102509\n",
      "Duplicate Rows: 410036\n"
     ]
    }
   ],
   "source": [
    "### To check the number of duplicates\n",
    "# Count total rows\n",
    "total_rows = retail.count()\n",
    "\n",
    "# Count unique rows\n",
    "unique_rows = retail.distinct().count()\n",
    "\n",
    "# Calculate number of duplicate rows\n",
    "duplicate_rows = total_rows - unique_rows\n",
    "\n",
    "# Print the results\n",
    "print(\"Total Rows:\", total_rows)\n",
    "print(\"Unique Rows:\", unique_rows)\n",
    "print(\"Duplicate Rows:\", duplicate_rows)\n"
   ]
  },
  {
   "cell_type": "code",
   "execution_count": 18,
   "id": "898b9735-c135-467e-a185-47e7af8a4d51",
   "metadata": {},
   "outputs": [
    {
     "name": "stdout",
     "output_type": "stream",
     "text": [
      "+----------+---------+------+----------+-----------+------+------+-------+-----+\n",
      "|CustomerID|ProductID|Amount|      Date|        Age|Salary|Gender|Country|count|\n",
      "+----------+---------+------+----------+-----------+------+------+-------+-----+\n",
      "|         6|       15|  7466|2019-12-02|       23.0| 35000|Female|England|    5|\n",
      "|        24|       89|  4733|2019-12-17|48.96363636| 12600|Female|Germany|    5|\n",
      "|        32|       64|  2941|2019-12-12|60.01818182| 37000|  Male|England|    5|\n",
      "|        33|       73|  6565|2019-12-13|       61.4| 39000|  Male|England|    5|\n",
      "|        38|       32|  3341|2019-11-25|       18.0| 29000|  Male|England|    5|\n",
      "|        73|       12|  2004|2019-12-10|65.54545455| 34000|  Male|Germany|    5|\n",
      "|        75|       61|  7227|2019-12-13|43.43636364| 60000|  Male|Germany|    5|\n",
      "|        78|       60|  5342|2019-12-13|47.58181818| 42000|  Male|England|    5|\n",
      "|        85|       75|  3450|2019-11-18|57.25454545| 65000|  Male| France|    5|\n",
      "|       114|       72|  3116|2019-11-27|47.58181818|  7600|Female|Germany|    5|\n",
      "|       115|       75|   572|2019-11-27|48.96363636| 55000|  Male|Germany|    5|\n",
      "|       123|       69|  5858|2019-12-14|60.01818182| 34000|  Male| France|    5|\n",
      "|       171|       71|  5798|2019-12-17|51.72727273| 30000|  Male|England|    5|\n",
      "|       194|       59|  7853|2019-11-25|58.63636364| 40000|Female| France|    5|\n",
      "|       202|        6|  5292|2019-12-01|44.81818182| 14300|Female| France|    5|\n",
      "|       206|       68|  2578|2019-11-27|50.34545455| 35000|  Male|England|    5|\n",
      "|       212|       54|  3797|2019-11-19|58.63636364| 19300|Female| France|    5|\n",
      "|       229|       90|  8576|2019-12-10|57.25454545| 45000|  Male|England|    5|\n",
      "|       243|       97|  2995|2019-11-26|51.72727273| 37000|Female|Germany|    5|\n",
      "|       252|       54|  1917|2019-12-06|64.16363636| 14300|  Male| France|    5|\n",
      "+----------+---------+------+----------+-----------+------+------+-------+-----+\n",
      "only showing top 20 rows\n",
      "\n"
     ]
    }
   ],
   "source": [
    "from pyspark.sql.functions import count\n",
    "\n",
    "# Find duplicated rows by grouping all columns and counting occurrences\n",
    "duplicates = (\n",
    "    retail.groupBy(retail.columns)  # group by all columns\n",
    "      .count()              # count how many times each row appears\n",
    "      .filter(\"count > 1\")  # keep only rows that appear more than once\n",
    ")\n",
    "\n",
    "# Show the duplicated rows (with their counts)\n",
    "duplicates.show()"
   ]
  },
  {
   "cell_type": "code",
   "execution_count": 19,
   "id": "858910a0-32fa-437e-8065-3e7caa48edcc",
   "metadata": {},
   "outputs": [
    {
     "name": "stdout",
     "output_type": "stream",
     "text": [
      "+----------+----------------------+\n",
      "|CustomerID|distinct_product_count|\n",
      "+----------+----------------------+\n",
      "|      1572|                    16|\n",
      "|      2904|                    12|\n",
      "|      3210|                    12|\n",
      "|       467|                    11|\n",
      "|      1090|                    13|\n",
      "|      3959|                    14|\n",
      "|      4937|                    15|\n",
      "|      1436|                    17|\n",
      "|      4821|                    12|\n",
      "|      6731|                    16|\n",
      "|      1159|                    10|\n",
      "|      1512|                     9|\n",
      "|       296|                    14|\n",
      "|      6194|                    15|\n",
      "|      5325|                     9|\n",
      "|       675|                    10|\n",
      "|      2088|                    14|\n",
      "|      4032|                     8|\n",
      "|      2069|                    15|\n",
      "|      3606|                    14|\n",
      "+----------+----------------------+\n",
      "only showing top 20 rows\n",
      "\n"
     ]
    }
   ],
   "source": [
    "from pyspark.sql.functions import countDistinct\n",
    "\n",
    "# Count how many different products each customer bought\n",
    "distinct_products_per_customer = retail.groupBy(\"CustomerID\") \\\n",
    "                                   .agg(countDistinct(\"ProductID\").alias(\"distinct_product_count\"))\n",
    "\n",
    "# Show customers who bought more than 1 unique product\n",
    "distinct_products_per_customer.filter(\"distinct_product_count > 1\").show()"
   ]
  },
  {
   "cell_type": "code",
   "execution_count": 20,
   "id": "2f26c7bf-8b94-4301-a2a4-f7b9a64501bd",
   "metadata": {},
   "outputs": [
    {
     "name": "stdout",
     "output_type": "stream",
     "text": [
      "+----------+---------+------+----------+-----------+------+------+-------+----------------------+\n",
      "|CustomerID|ProductID|Amount|      Date|        Age|Salary|Gender|Country|distinct_product_count|\n",
      "+----------+---------+------+----------+-----------+------+------+-------+----------------------+\n",
      "|       296|       52|  8815|2019-12-17|50.34545455| 30000|  Male|Germany|                    14|\n",
      "|       296|       96|  8355|2019-11-28|50.34545455| 30000|  Male|Germany|                    14|\n",
      "|       296|       10|  8203|2019-12-04|50.34545455| 30000|  Male|Germany|                    14|\n",
      "|       296|       68|  4045|2019-11-28|50.34545455| 30000|  Male|Germany|                    14|\n",
      "|       296|       19|  6188|2019-11-27|50.34545455| 30000|  Male|Germany|                    14|\n",
      "|       296|       41|  6842|2019-12-01|50.34545455| 30000|  Male|Germany|                    14|\n",
      "|       296|       92|   736|2019-12-14|50.34545455| 30000|  Male|Germany|                    14|\n",
      "|       296|       75|  6644|2019-12-16|50.34545455| 30000|  Male|Germany|                    14|\n",
      "|       296|       77|  3703|2019-12-17|50.34545455| 30000|  Male|Germany|                    14|\n",
      "|       296|       96|  8913|2019-12-04|50.34545455| 30000|  Male|Germany|                    14|\n",
      "|       296|       52|   292|2019-12-08|50.34545455| 30000|  Male|Germany|                    14|\n",
      "|       296|       37|  1200|2019-11-24|50.34545455| 30000|  Male|Germany|                    14|\n",
      "|       296|       38|  3719|2019-12-05|50.34545455| 30000|  Male|Germany|                    14|\n",
      "|       296|       40|   729|2019-12-10|50.34545455| 30000|  Male|Germany|                    14|\n",
      "|       296|       44|  3107|2019-12-09|50.34545455| 30000|  Male|Germany|                    14|\n",
      "|       296|       24|   912|2019-12-17|50.34545455| 30000|  Male|Germany|                    14|\n",
      "|       467|       39|   668|2019-11-26|62.78181818|  9300|Female|Germany|                    11|\n",
      "|       467|        4|  6636|2019-11-22|62.78181818|  9300|Female|Germany|                    11|\n",
      "|       467|       20|  7645|2019-11-28|62.78181818|  9300|Female|Germany|                    11|\n",
      "|       467|       98|  2571|2019-11-30|62.78181818|  9300|Female|Germany|                    11|\n",
      "+----------+---------+------+----------+-----------+------+------+-------+----------------------+\n",
      "only showing top 20 rows\n",
      "\n"
     ]
    }
   ],
   "source": [
    "# Get only customers with multiple product purchases\n",
    "multi_product_customers = distinct_products_per_customer.filter(\"distinct_product_count > 1\")\n",
    "\n",
    "# Join with original dataset to see those transactions\n",
    "df_multi_products = retail.join(multi_product_customers, on=\"CustomerID\", how=\"inner\")\n",
    "\n",
    "df_multi_products.show()"
   ]
  },
  {
   "cell_type": "code",
   "execution_count": 21,
   "id": "e6029696-0ee2-4002-944f-2a5ac4168a6a",
   "metadata": {},
   "outputs": [
    {
     "name": "stdout",
     "output_type": "stream",
     "text": [
      "+----------+----------------+\n",
      "|CustomerID|TotalAmountSpent|\n",
      "+----------+----------------+\n",
      "|       296|          362015|\n",
      "|       467|          249815|\n",
      "|       675|          267405|\n",
      "|       691|          459750|\n",
      "|       829|          320020|\n",
      "|      1090|          386075|\n",
      "|      1159|          301920|\n",
      "|      1436|          412925|\n",
      "|      1512|          274245|\n",
      "|      1572|          449855|\n",
      "|      2069|          539460|\n",
      "|      2088|          281745|\n",
      "|      2136|          656625|\n",
      "|      2162|          249475|\n",
      "|      2294|          372415|\n",
      "|      2904|          287505|\n",
      "|      3210|          221945|\n",
      "|      3414|          345550|\n",
      "|      3606|          405530|\n",
      "|      3959|          427515|\n",
      "+----------+----------------+\n",
      "only showing top 20 rows\n",
      "\n"
     ]
    }
   ],
   "source": [
    "from pyspark.sql.functions import sum\n",
    "\n",
    "retail_agg = retail.groupBy(\"CustomerID\").agg(sum(\"Amount\").alias(\"TotalAmountSpent\"))\n",
    "retail_agg.show()"
   ]
  },
  {
   "cell_type": "code",
   "execution_count": 22,
   "id": "86d10648-9dd1-456e-b67d-f3dfb2020bea",
   "metadata": {},
   "outputs": [],
   "source": [
    "## Since a customer can appear many times in the dataset because of multiple purchases\n",
    "## duplicates by CustomerID we therefore can aggregate the data per customer to create one row per customer making it suitable for regression modeling.\n",
    "from pyspark.sql.functions import sum, avg, count, countDistinct\n",
    "transactions_agg = retail.groupBy(\"CustomerID\").agg(\n",
    "    sum(\"Amount\").alias(\"Totalamount\"),\n",
    "    avg(\"Amount\").alias(\"Avgamount\"),\n",
    "    count(\"Amount\").alias(\"Transactioncount\"),\n",
    "    countDistinct(\"ProductID\").alias(\"ProductCount\")\n",
    ")\n",
    "## spending behavior,one row per customer"
   ]
  },
  {
   "cell_type": "code",
   "execution_count": 23,
   "id": "3267346f-7561-4449-9d73-75204e9a92d8",
   "metadata": {},
   "outputs": [],
   "source": [
    "customer_info = retail.select(\"CustomerID\", \"Age\", \"Salary\", \"Gender\", \"Country\").dropDuplicates([\"CustomerID\"])"
   ]
  },
  {
   "cell_type": "code",
   "execution_count": 24,
   "id": "b83069c6-670c-4a2d-bb86-df27b1465dee",
   "metadata": {},
   "outputs": [],
   "source": [
    "customer_df = customer_info.join(transactions_agg, on=\"CustomerID\", how=\"inner\")"
   ]
  },
  {
   "cell_type": "code",
   "execution_count": 25,
   "id": "279b7150-6053-4328-a1d9-24398a6a807a",
   "metadata": {},
   "outputs": [
    {
     "name": "stdout",
     "output_type": "stream",
     "text": [
      "+----------+-----------+------+------+-------+-----------+------------------+----------------+------------+\n",
      "|CustomerID|        Age|Salary|Gender|Country|Totalamount|         Avgamount|Transactioncount|ProductCount|\n",
      "+----------+-----------+------+------+-------+-----------+------------------+----------------+------------+\n",
      "|      1572|47.58181818| 32000|  Male|England|     449855| 5292.411764705882|              85|          16|\n",
      "|      2904|47.58181818| 45000|Female|Germany|     287505|           4791.75|              60|          12|\n",
      "|      3210|47.58181818| 65000|  Male| France|     221945|3414.5384615384614|              65|          12|\n",
      "|       467|62.78181818|  9300|Female|Germany|     249815| 4542.090909090909|              55|          11|\n",
      "|      1090|53.10909091| 55000|  Male| France|     386075| 5939.615384615385|              65|          13|\n",
      "|      3959|62.78181818| 17600|Female|England|     427515|         5343.9375|              80|          14|\n",
      "|      4937|       46.2| 19300|Female|Germany|     352170|          4402.125|              80|          15|\n",
      "|      1436|58.63636364| 50000|  Male|Germany|     412925| 4857.941176470588|              85|          17|\n",
      "|      4821|60.01818182| 30000|  Male| France|     255320| 4255.333333333333|              60|          12|\n",
      "|      6731|62.78181818| 35000|  Male|Germany|     639250| 5327.083333333333|             120|          16|\n",
      "|      1159|48.96363636| 17600|  Male|Germany|     301920|            6038.4|              50|          10|\n",
      "|      1512|64.16363636| 19300|  Male|Germany|     274245| 6094.333333333333|              45|           9|\n",
      "|       296|50.34545455| 30000|  Male|Germany|     362015|         4525.1875|              80|          14|\n",
      "|      6194|66.92727273| 40000|  Male|Germany|     400900| 4716.470588235294|              85|          15|\n",
      "|      5325|60.01818182| 60000|  Male|England|     272660| 6059.111111111111|              45|           9|\n",
      "|       675|51.72727273| 60000|Female|England|     267405|            5348.1|              50|          10|\n",
      "|      2088|64.16363636| 29000|Female|Germany|     281745|            3756.6|              75|          14|\n",
      "|      4032|64.16363636| 37000|Female| France|     154900| 3442.222222222222|              45|           8|\n",
      "|      2069|62.78181818| 40000|  Male| France|     539460| 6346.588235294118|              85|          15|\n",
      "|      3606|47.58181818| 35000|  Male| France|     405530| 5407.066666666667|              75|          14|\n",
      "+----------+-----------+------+------+-------+-----------+------------------+----------------+------------+\n",
      "only showing top 20 rows\n",
      "\n"
     ]
    }
   ],
   "source": [
    "##How much each customer spent, how often they shopped (transaction count) and how many different products they bought(productcount)\n",
    "customer_df.show()"
   ]
  },
  {
   "cell_type": "code",
   "execution_count": 26,
   "id": "653e70d9-04d0-488a-87c5-be3554ca17ec",
   "metadata": {},
   "outputs": [
    {
     "name": "stdout",
     "output_type": "stream",
     "text": [
      "+-------+------------------+------------------+------------------+------+-------+------------------+-----------------+------------------+------------------+\n",
      "|summary|        CustomerID|               Age|            Salary|Gender|Country|       Totalamount|        Avgamount|  Transactioncount|      ProductCount|\n",
      "+-------+------------------+------------------+------------------+------+-------+------------------+-----------------+------------------+------------------+\n",
      "|  count|              7000|              7000|              7000|  7000|   7000|              7000|             7000|              7000|              7000|\n",
      "|   mean|            3500.5| 55.03751688351747|35367.671428571426|  NULL|   NULL| 365072.2357142857|4984.317739110541| 73.22071428571428|13.634714285714285|\n",
      "| stddev|2020.8702745764415|7.4130797545714255|15002.106029438495|  NULL|   NULL|108164.89326654827|774.4816010950908|18.538214052556498| 3.329608529575032|\n",
      "|    min|                 1|              18.0|              2600|Female|England|             17330|           1733.0|                10|                 2|\n",
      "|    max|               999|       66.92727273|             65000|  Male|Germany|            851920|         8131.625|               150|                26|\n",
      "+-------+------------------+------------------+------------------+------+-------+------------------+-----------------+------------------+------------------+\n",
      "\n"
     ]
    }
   ],
   "source": [
    "customer_df.describe().show()"
   ]
  },
  {
   "cell_type": "code",
   "execution_count": 27,
   "id": "ac8ba995-23d1-4ed5-a4b2-25584e86b40e",
   "metadata": {},
   "outputs": [],
   "source": [
    "##encoding of gender and country columns\n",
    "from pyspark.ml.feature import StringIndexer\n",
    "Gender_label = StringIndexer(inputCol=\"Gender\", outputCol=\"Genderlabel\")\n",
    "Country_label = StringIndexer(inputCol=\"Country\", outputCol=\"Countrylabel\")"
   ]
  },
  {
   "cell_type": "code",
   "execution_count": 28,
   "id": "166ad82a-557f-4636-bdbf-2e14d21d80df",
   "metadata": {},
   "outputs": [],
   "source": [
    "customers_df = Gender_label.fit(customer_df).transform(customer_df)\n",
    "customers_df = Country_label.fit(customers_df).transform(customers_df)"
   ]
  },
  {
   "cell_type": "code",
   "execution_count": 29,
   "id": "9dadd8f3-5017-4902-8636-df96560eb505",
   "metadata": {},
   "outputs": [
    {
     "name": "stdout",
     "output_type": "stream",
     "text": [
      "+----------+-----------+------+------+-------+-----------+------------------+----------------+------------+-----------+------------+\n",
      "|CustomerID|        Age|Salary|Gender|Country|Totalamount|         Avgamount|Transactioncount|ProductCount|Genderlabel|Countrylabel|\n",
      "+----------+-----------+------+------+-------+-----------+------------------+----------------+------------+-----------+------------+\n",
      "|      1572|47.58181818| 32000|  Male|England|     449855| 5292.411764705882|              85|          16|        0.0|         0.0|\n",
      "|      2904|47.58181818| 45000|Female|Germany|     287505|           4791.75|              60|          12|        1.0|         2.0|\n",
      "|      3210|47.58181818| 65000|  Male| France|     221945|3414.5384615384614|              65|          12|        0.0|         1.0|\n",
      "|       467|62.78181818|  9300|Female|Germany|     249815| 4542.090909090909|              55|          11|        1.0|         2.0|\n",
      "|      1090|53.10909091| 55000|  Male| France|     386075| 5939.615384615385|              65|          13|        0.0|         1.0|\n",
      "|      3959|62.78181818| 17600|Female|England|     427515|         5343.9375|              80|          14|        1.0|         0.0|\n",
      "|      4937|       46.2| 19300|Female|Germany|     352170|          4402.125|              80|          15|        1.0|         2.0|\n",
      "|      1436|58.63636364| 50000|  Male|Germany|     412925| 4857.941176470588|              85|          17|        0.0|         2.0|\n",
      "|      4821|60.01818182| 30000|  Male| France|     255320| 4255.333333333333|              60|          12|        0.0|         1.0|\n",
      "|      6731|62.78181818| 35000|  Male|Germany|     639250| 5327.083333333333|             120|          16|        0.0|         2.0|\n",
      "|      1159|48.96363636| 17600|  Male|Germany|     301920|            6038.4|              50|          10|        0.0|         2.0|\n",
      "|      1512|64.16363636| 19300|  Male|Germany|     274245| 6094.333333333333|              45|           9|        0.0|         2.0|\n",
      "|       296|50.34545455| 30000|  Male|Germany|     362015|         4525.1875|              80|          14|        0.0|         2.0|\n",
      "|      6194|66.92727273| 40000|  Male|Germany|     400900| 4716.470588235294|              85|          15|        0.0|         2.0|\n",
      "|      5325|60.01818182| 60000|  Male|England|     272660| 6059.111111111111|              45|           9|        0.0|         0.0|\n",
      "|       675|51.72727273| 60000|Female|England|     267405|            5348.1|              50|          10|        1.0|         0.0|\n",
      "|      2088|64.16363636| 29000|Female|Germany|     281745|            3756.6|              75|          14|        1.0|         2.0|\n",
      "|      4032|64.16363636| 37000|Female| France|     154900| 3442.222222222222|              45|           8|        1.0|         1.0|\n",
      "|      2069|62.78181818| 40000|  Male| France|     539460| 6346.588235294118|              85|          15|        0.0|         1.0|\n",
      "|      3606|47.58181818| 35000|  Male| France|     405530| 5407.066666666667|              75|          14|        0.0|         1.0|\n",
      "+----------+-----------+------+------+-------+-----------+------------------+----------------+------------+-----------+------------+\n",
      "only showing top 20 rows\n",
      "\n"
     ]
    }
   ],
   "source": [
    "customers_df.show()"
   ]
  },
  {
   "cell_type": "code",
   "execution_count": 30,
   "id": "0d9b29bc-458e-4405-a455-1aee2d50fd80",
   "metadata": {},
   "outputs": [
    {
     "name": "stdout",
     "output_type": "stream",
     "text": [
      "+-----------+------+------------------+----------------+------------+----------------------------------------------------------------------------------------------------+\n",
      "|Age        |Salary|Avgamount         |Transactioncount|ProductCount|features_scaled                                                                                     |\n",
      "+-----------+------+------------------+----------------+------------+----------------------------------------------------------------------------------------------------+\n",
      "|47.58181818|32000 |5292.411764705882 |85              |16          |[-1.0057491555947848,-0.22447991115136445,0.3978067718583753,0.6354056372901469,0.7103795215792482] |\n",
      "|47.58181818|45000 |4791.75           |60              |12          |[-1.0057491555947848,0.6420650908963608,-0.248640818372254,-0.71316008371858,-0.4909629078596032]   |\n",
      "|47.58181818|65000 |3414.5384615384614|65              |12          |[-1.0057491555947848,1.975211247892861,-2.026877430467629,-0.4434469395168346,-0.4909629078596032]  |\n",
      "|62.78181818|9300  |4542.090909090909 |55              |11          |[1.0446806931636339,-1.7376007993423923,-0.5709972056073813,-0.9828732279203254,-0.7912985152193162]|\n",
      "|53.10909091|55000 |5939.615384615385 |65              |13          |[-0.2601383011329144,1.308638169394611,1.2334671916725806,-0.4434469395168346,-0.19062730049989035] |\n",
      "+-----------+------+------------------+----------------+------------+----------------------------------------------------------------------------------------------------+\n",
      "only showing top 5 rows\n",
      "\n"
     ]
    }
   ],
   "source": [
    "from pyspark.ml.feature import VectorAssembler, StandardScaler\n",
    "assembler = VectorAssembler(\n",
    "    inputCols=[\"Age\", \"Salary\", \"Avgamount\", \"Transactioncount\", \"ProductCount\"],\n",
    "    outputCol=\"features\"\n",
    ")\n",
    "\n",
    "df = assembler.transform(customers_df)\n",
    "\n",
    "# Step 2: Apply StandardScaler to scale the numeric features\n",
    "scaler = StandardScaler(inputCol=\"features\", outputCol=\"features_scaled\", withMean=True, withStd=True)\n",
    "\n",
    "scaler_model = scaler.fit(df)\n",
    "df_scaled = scaler_model.transform(df)\n",
    "\n",
    "# Show result with scaled features\n",
    "df_scaled.select(\"Age\", \"Salary\", \"Avgamount\", \"Transactioncount\", \"ProductCount\", \"features_scaled\").show(5, truncate=False)\n"
   ]
  },
  {
   "cell_type": "code",
   "execution_count": 31,
   "id": "0ed25ba1-fd1f-4f67-8deb-da6f9b2fa2fd",
   "metadata": {},
   "outputs": [
    {
     "name": "stdout",
     "output_type": "stream",
     "text": [
      "+----------+-----------+------+------+-------+-----------+------------------+----------------+------------+-----------+------------+--------------------+--------------------+\n",
      "|CustomerID|        Age|Salary|Gender|Country|Totalamount|         Avgamount|Transactioncount|ProductCount|Genderlabel|Countrylabel|            features|     features_scaled|\n",
      "+----------+-----------+------+------+-------+-----------+------------------+----------------+------------+-----------+------------+--------------------+--------------------+\n",
      "|      1572|47.58181818| 32000|  Male|England|     449855| 5292.411764705882|              85|          16|        0.0|         0.0|[47.58181818,3200...|[-1.0057491555947...|\n",
      "|      2904|47.58181818| 45000|Female|Germany|     287505|           4791.75|              60|          12|        1.0|         2.0|[47.58181818,4500...|[-1.0057491555947...|\n",
      "|      3210|47.58181818| 65000|  Male| France|     221945|3414.5384615384614|              65|          12|        0.0|         1.0|[47.58181818,6500...|[-1.0057491555947...|\n",
      "|       467|62.78181818|  9300|Female|Germany|     249815| 4542.090909090909|              55|          11|        1.0|         2.0|[62.78181818,9300...|[1.04468069316363...|\n",
      "|      1090|53.10909091| 55000|  Male| France|     386075| 5939.615384615385|              65|          13|        0.0|         1.0|[53.10909091,5500...|[-0.2601383011329...|\n",
      "|      3959|62.78181818| 17600|Female|England|     427515|         5343.9375|              80|          14|        1.0|         0.0|[62.78181818,1760...|[1.04468069316363...|\n",
      "|      4937|       46.2| 19300|Female|Germany|     352170|          4402.125|              80|          15|        1.0|         2.0|[46.2,19300.0,440...|[-1.1921518688730...|\n",
      "|      1436|58.63636364| 50000|  Male|Germany|     412925| 4857.941176470588|              85|          17|        0.0|         2.0|[58.63636364,5000...|[0.48547255332895...|\n",
      "|      4821|60.01818182| 30000|  Male| France|     255320| 4255.333333333333|              60|          12|        0.0|         1.0|[60.01818182,3000...|[0.67187526660718...|\n",
      "|      6731|62.78181818| 35000|  Male|Germany|     639250| 5327.083333333333|             120|          16|        0.0|         2.0|[62.78181818,3500...|[1.04468069316363...|\n",
      "|      1159|48.96363636| 17600|  Male|Germany|     301920|            6038.4|              50|          10|        0.0|         2.0|[48.96363636,1760...|[-0.8193464423165...|\n",
      "|      1512|64.16363636| 19300|  Male|Germany|     274245| 6094.333333333333|              45|           9|        0.0|         2.0|[64.16363636,1930...|[1.23108340644185...|\n",
      "|       296|50.34545455| 30000|  Male|Germany|     362015|         4525.1875|              80|          14|        0.0|         2.0|[50.34545455,3000...|[-0.6329437276893...|\n",
      "|      6194|66.92727273| 40000|  Male|Germany|     400900| 4716.470588235294|              85|          15|        0.0|         2.0|[66.92727273,4000...|[1.60388883434727...|\n",
      "|      5325|60.01818182| 60000|  Male|England|     272660| 6059.111111111111|              45|           9|        0.0|         0.0|[60.01818182,6000...|[0.67187526660718...|\n",
      "|       675|51.72727273| 60000|Female|England|     267405|            5348.1|              50|          10|        1.0|         0.0|[51.72727273,6000...|[-0.4465410144111...|\n",
      "|      2088|64.16363636| 29000|Female|Germany|     281745|            3756.6|              75|          14|        1.0|         2.0|[64.16363636,2900...|[1.23108340644185...|\n",
      "|      4032|64.16363636| 37000|Female| France|     154900| 3442.222222222222|              45|           8|        1.0|         1.0|[64.16363636,3700...|[1.23108340644185...|\n",
      "|      2069|62.78181818| 40000|  Male| France|     539460| 6346.588235294118|              85|          15|        0.0|         1.0|[62.78181818,4000...|[1.04468069316363...|\n",
      "|      3606|47.58181818| 35000|  Male| France|     405530| 5407.066666666667|              75|          14|        0.0|         1.0|[47.58181818,3500...|[-1.0057491555947...|\n",
      "+----------+-----------+------+------+-------+-----------+------------------+----------------+------------+-----------+------------+--------------------+--------------------+\n",
      "only showing top 20 rows\n",
      "\n"
     ]
    }
   ],
   "source": [
    "df_scaled.show()"
   ]
  },
  {
   "cell_type": "code",
   "execution_count": 32,
   "id": "9a4f533f-e8d6-4dcb-8de2-5b0414a1af6b",
   "metadata": {},
   "outputs": [
    {
     "data": {
      "text/plain": [
       "'in-memory'"
      ]
     },
     "execution_count": 32,
     "metadata": {},
     "output_type": "execute_result"
    }
   ],
   "source": [
    "spark.conf.get(\"spark.sql.catalogImplementation\")"
   ]
  },
  {
   "cell_type": "code",
   "execution_count": 37,
   "id": "582f4fca-e117-4e21-b842-c9c994ce24ab",
   "metadata": {},
   "outputs": [
    {
     "name": "stdout",
     "output_type": "stream",
     "text": [
      "Saved transactions to /home/jovyan/data/transactions\n",
      "Saved customers to /home/jovyan/data/customers\n",
      "Saved retail to /home/jovyan/data/retail\n",
      "Saved customer_df to /home/jovyan/data/customer_df\n",
      "Saved customers_df to /home/jovyan/data/customers_df\n",
      "Saved df_scaled to /home/jovyan/data/df_scaled\n"
     ]
    }
   ],
   "source": [
    "dataframes = {\n",
    "    \"transactions\": transactions,\n",
    "    \"customers\": customers,\n",
    "    \"retail\": retail,\n",
    "    \"customer_df\": customer_df,\n",
    "    \"customers_df\": customers_df,\n",
    "    \"df_scaled\": df_scaled\n",
    "}\n",
    "\n",
    "base_path = \"/home/jovyan/data\"  # Unix-style absolute path\n",
    "\n",
    "for name, df in dataframes.items():\n",
    "    save_path = f\"{base_path}/{name}\"\n",
    "    df.write.mode(\"overwrite\").parquet(save_path)\n",
    "    print(f\"Saved {name} to {save_path}\")"
   ]
  },
  {
   "cell_type": "code",
   "execution_count": 38,
   "id": "98251e45-6e06-47f3-810c-d23c026d4c4f",
   "metadata": {},
   "outputs": [],
   "source": [
    "spark.stop()"
   ]
  },
  {
   "cell_type": "code",
   "execution_count": 39,
   "id": "7ae7ef3c-5643-4137-ab93-128c63785d91",
   "metadata": {},
   "outputs": [],
   "source": [
    "from pyspark.sql import SparkSession\n",
    "\n",
    "spark = SparkSession.builder \\\n",
    "    .appName(\"assignment2\") \\\n",
    "    .enableHiveSupport() \\\n",
    "    .getOrCreate()"
   ]
  },
  {
   "cell_type": "code",
   "execution_count": 40,
   "id": "2d3a4781-8da9-4f67-ad7f-b642eae82f37",
   "metadata": {},
   "outputs": [],
   "source": [
    "transactions = spark.read.parquet(\"/home/jovyan/data/transactions\")\n",
    "customers = spark.read.parquet(\"/home/jovyan/data/customers\")\n",
    "retail = spark.read.parquet(\"/home/jovyan/data/retail\")\n",
    "customer_df = spark.read.parquet(\"/home/jovyan/data/customer_df\")\n",
    "customers_df = spark.read.parquet(\"/home/jovyan/data/customers_df\")\n",
    "df_scaled = spark.read.parquet(\"/home/jovyan/data/df_scaled\")"
   ]
  },
  {
   "cell_type": "code",
   "execution_count": 41,
   "id": "0560ba4b-9caa-4bc3-b16a-fbdc337a16d9",
   "metadata": {},
   "outputs": [],
   "source": [
    "## creating Spark SQL temporary views called \"Spark tables\"\n",
    "transactions.createOrReplaceTempView(\"transactions_view\")\n",
    "customers.createOrReplaceTempView(\"customers_view\")\n",
    "retail.createOrReplaceTempView(\"retail_view\")\n",
    "customer_df.createOrReplaceTempView(\"customer_df_view\")\n",
    "customers_df.createOrReplaceTempView(\"customers_df_view\")\n",
    "df_scaled.createOrReplaceTempView(\"df_scaled_view\")"
   ]
  },
  {
   "cell_type": "code",
   "execution_count": 42,
   "id": "11a5d923-7861-48f1-ae5c-a99f7dde4b08",
   "metadata": {},
   "outputs": [
    {
     "data": {
      "text/plain": [
       "DataFrame[]"
      ]
     },
     "execution_count": 42,
     "metadata": {},
     "output_type": "execute_result"
    }
   ],
   "source": [
    "## creating a managed Hive table in your Hive warehouse directory\n",
    "spark.sql(\"CREATE TABLE IF NOT EXISTS transactions AS SELECT * FROM transactions_view\")\n",
    "spark.sql(\"CREATE TABLE IF NOT EXISTS customers AS SELECT * FROM customers_view\")\n",
    "spark.sql(\"CREATE TABLE IF NOT EXISTS retail AS SELECT * FROM retail_view\")\n",
    "spark.sql(\"CREATE TABLE IF NOT EXISTS customer_df AS SELECT * FROM customer_df_view\")\n",
    "spark.sql(\"CREATE TABLE IF NOT EXISTS customers_df AS SELECT * FROM customers_df_view\")\n",
    "spark.sql(\"CREATE TABLE IF NOT EXISTS df_scaled AS SELECT * FROM df_scaled_view\")"
   ]
  },
  {
   "cell_type": "code",
   "execution_count": 45,
   "id": "c4c219c7-990d-4b7e-8aed-ea336ffec983",
   "metadata": {},
   "outputs": [
    {
     "name": "stdout",
     "output_type": "stream",
     "text": [
      "+---------------+\n",
      "|total_customers|\n",
      "+---------------+\n",
      "|        5015737|\n",
      "+---------------+\n",
      "\n"
     ]
    }
   ],
   "source": [
    "##total customers\n",
    "spark.sql(\"SELECT COUNT(*) AS total_customers FROM customers\").show()"
   ]
  },
  {
   "cell_type": "code",
   "execution_count": 46,
   "id": "de8d601e-5e00-475f-81e8-b72aab610b25",
   "metadata": {},
   "outputs": [
    {
     "name": "stdout",
     "output_type": "stream",
     "text": [
      "+-------+-----------+-----------------+----------+----------+------------------+\n",
      "|min_age|    max_age|          avg_age|min_salary|max_salary|        avg_salary|\n",
      "+-------+-----------+-----------------+----------+----------+------------------+\n",
      "|   18.0|66.92727273|55.18083149135931|      2600|     65000|35387.864435475785|\n",
      "+-------+-----------+-----------------+----------+----------+------------------+\n",
      "\n"
     ]
    }
   ],
   "source": [
    "## summary statistics for numerical features from customers table\n",
    "spark.sql(\"\"\"\n",
    "SELECT\n",
    "  MIN(Age) AS min_age,\n",
    "  MAX(Age) AS max_age,\n",
    "  AVG(Age) AS avg_age,\n",
    "  MIN(Salary) AS min_salary,\n",
    "  MAX(Salary) AS max_salary,\n",
    "  AVG(Salary) AS avg_salary\n",
    "FROM customers\n",
    "\"\"\").show()"
   ]
  },
  {
   "cell_type": "code",
   "execution_count": 52,
   "id": "f5cf7eb5-4b57-43cd-b205-f4423fdc6a76",
   "metadata": {},
   "outputs": [
    {
     "name": "stdout",
     "output_type": "stream",
     "text": [
      "+----------+-----------+\n",
      "|CustomerID|Totalamount|\n",
      "+----------+-----------+\n",
      "|      5293|     851920|\n",
      "|      5535|     789600|\n",
      "|      4201|     783685|\n",
      "|      1293|     774900|\n",
      "|      1087|     754555|\n",
      "+----------+-----------+\n",
      "\n"
     ]
    }
   ],
   "source": [
    "# 5 High value customers by total amount spent\n",
    "spark.sql(\"\"\"\n",
    "SELECT CustomerID, Totalamount\n",
    "FROM customers_df\n",
    "ORDER BY Totalamount DESC\n",
    "LIMIT 5\n",
    "\"\"\").show()"
   ]
  },
  {
   "cell_type": "code",
   "execution_count": 54,
   "id": "c55efa63-d675-4646-ac05-f8caf9b2e72c",
   "metadata": {},
   "outputs": [
    {
     "name": "stdout",
     "output_type": "stream",
     "text": [
      "+-------+-----------+\n",
      "|Country|total_spent|\n",
      "+-------+-----------+\n",
      "|England| 1154275115|\n",
      "| France|  729342780|\n",
      "|Germany|  671887755|\n",
      "+-------+-----------+\n",
      "\n"
     ]
    }
   ],
   "source": [
    "\n",
    "# Total amount spent by country\n",
    "spark.sql(\"\"\"\n",
    "SELECT Country, SUM(Totalamount) AS total_spent\n",
    "FROM customers_df\n",
    "GROUP BY Country\n",
    "ORDER BY total_spent DESC\n",
    "\"\"\").show()"
   ]
  },
  {
   "cell_type": "code",
   "execution_count": 55,
   "id": "2a4f851b-49c1-413e-b150-bf26491e836b",
   "metadata": {},
   "outputs": [],
   "source": [
    "import time\n",
    "\n",
    "def time_query(sql_query):\n",
    "    start_time = time.time()\n",
    "    spark.sql(sql_query).show()\n",
    "    end_time = time.time()\n",
    "    duration = end_time - start_time\n",
    "    print(f\"Query took {duration:.4f} seconds\\n\")\n",
    "    return duration"
   ]
  },
  {
   "cell_type": "code",
   "execution_count": 60,
   "id": "c1a8c92d-5e5c-4757-9939-ba9c8c4f2b40",
   "metadata": {},
   "outputs": [
    {
     "name": "stdout",
     "output_type": "stream",
     "text": [
      "### Spark SQL on Temporary Views ###\n",
      "+---------------+\n",
      "|total_customers|\n",
      "+---------------+\n",
      "|        5015737|\n",
      "+---------------+\n",
      "\n",
      "Query took 0.1863 seconds\n",
      "\n",
      "+-------+-----------+\n",
      "|Country|total_spent|\n",
      "+-------+-----------+\n",
      "|England| 1154275115|\n",
      "| France|  729342780|\n",
      "|Germany|  671887755|\n",
      "+-------+-----------+\n",
      "\n",
      "Query took 0.1658 seconds\n",
      "\n"
     ]
    },
    {
     "data": {
      "text/plain": [
       "0.16578030586242676"
      ]
     },
     "execution_count": 60,
     "metadata": {},
     "output_type": "execute_result"
    }
   ],
   "source": [
    "print(\"### Spark SQL on Temporary Views ###\")\n",
    "\n",
    "query1 = \"SELECT COUNT(*) AS total_customers FROM customers_view\"\n",
    "query2 = \"\"\"\n",
    "SELECT Country, SUM(Totalamount) AS total_spent \n",
    "FROM customers_df_view \n",
    "GROUP BY Country \n",
    "ORDER BY total_spent DESC\n",
    "\"\"\"\n",
    "\n",
    "time_query(query1)\n",
    "time_query(query2)\n"
   ]
  },
  {
   "cell_type": "code",
   "execution_count": 61,
   "id": "30dc435d-d038-4364-b89d-baa0db16b70d",
   "metadata": {},
   "outputs": [
    {
     "name": "stdout",
     "output_type": "stream",
     "text": [
      "### Hive SQL on Hive Managed Tables ###\n",
      "+---------------+\n",
      "|total_customers|\n",
      "+---------------+\n",
      "|        5015737|\n",
      "+---------------+\n",
      "\n",
      "Query took 1.1874 seconds\n",
      "\n",
      "+-------+-----------+\n",
      "|Country|total_spent|\n",
      "+-------+-----------+\n",
      "|England| 1154275115|\n",
      "| France|  729342780|\n",
      "|Germany|  671887755|\n",
      "+-------+-----------+\n",
      "\n",
      "Query took 0.2221 seconds\n",
      "\n"
     ]
    },
    {
     "data": {
      "text/plain": [
       "0.2220766544342041"
      ]
     },
     "execution_count": 61,
     "metadata": {},
     "output_type": "execute_result"
    }
   ],
   "source": [
    "print(\"### Hive SQL on Hive Managed Tables ###\")\n",
    "\n",
    "query1_hive = \"SELECT COUNT(*) AS total_customers FROM customers\"\n",
    "query2_hive = \"\"\"\n",
    "SELECT Country, SUM(Totalamount) AS total_spent \n",
    "FROM customers_df\n",
    "GROUP BY Country \n",
    "ORDER BY total_spent DESC\n",
    "\"\"\"\n",
    "time_query(query1_hive)\n",
    "time_query(query2_hive)"
   ]
  },
  {
   "cell_type": "code",
   "execution_count": 62,
   "id": "b6924f03-cfaa-498e-aede-d33a5af3b743",
   "metadata": {},
   "outputs": [
    {
     "name": "stdout",
     "output_type": "stream",
     "text": [
      "== Parsed Logical Plan ==\n",
      "'Project ['COUNT(1) AS total_customers#5746]\n",
      "+- 'UnresolvedRelation [customers_view], [], false\n",
      "\n",
      "== Analyzed Logical Plan ==\n",
      "total_customers: bigint\n",
      "Aggregate [count(1) AS total_customers#5746L]\n",
      "+- SubqueryAlias customers_view\n",
      "   +- View (`customers_view`, [CustomerID#5118,Age#5119,Salary#5120,Gender#5121,Country#5122])\n",
      "      +- Relation [CustomerID#5118,Age#5119,Salary#5120,Gender#5121,Country#5122] parquet\n",
      "\n",
      "== Optimized Logical Plan ==\n",
      "Aggregate [count(1) AS total_customers#5746L]\n",
      "+- Project\n",
      "   +- Relation [CustomerID#5118,Age#5119,Salary#5120,Gender#5121,Country#5122] parquet\n",
      "\n",
      "== Physical Plan ==\n",
      "AdaptiveSparkPlan isFinalPlan=false\n",
      "+- HashAggregate(keys=[], functions=[count(1)], output=[total_customers#5746L])\n",
      "   +- Exchange SinglePartition, ENSURE_REQUIREMENTS, [plan_id=10305]\n",
      "      +- HashAggregate(keys=[], functions=[partial_count(1)], output=[count#5750L])\n",
      "         +- FileScan parquet [] Batched: true, DataFilters: [], Format: Parquet, Location: InMemoryFileIndex(1 paths)[file:/home/jovyan/data/customers], PartitionFilters: [], PushedFilters: [], ReadSchema: struct<>\n",
      "\n"
     ]
    }
   ],
   "source": [
    "df_A = spark.sql(query1)\n",
    "df_A.explain(True)"
   ]
  },
  {
   "cell_type": "code",
   "execution_count": 63,
   "id": "41447699-63d7-4f1e-a5f1-32fe2a3dd6f3",
   "metadata": {},
   "outputs": [
    {
     "name": "stdout",
     "output_type": "stream",
     "text": [
      "== Parsed Logical Plan ==\n",
      "'Project ['COUNT(1) AS total_customers#5751]\n",
      "+- 'UnresolvedRelation [customers], [], false\n",
      "\n",
      "== Analyzed Logical Plan ==\n",
      "total_customers: bigint\n",
      "Aggregate [count(1) AS total_customers#5751L]\n",
      "+- SubqueryAlias spark_catalog.default.customers\n",
      "   +- HiveTableRelation [`spark_catalog`.`default`.`customers`, org.apache.hadoop.hive.serde2.lazy.LazySimpleSerDe, Data Cols: [CustomerID#5753, Age#5754, Salary#5755, Gender#5756, Country#5757], Partition Cols: []]\n",
      "\n",
      "== Optimized Logical Plan ==\n",
      "Aggregate [count(1) AS total_customers#5751L]\n",
      "+- Project\n",
      "   +- HiveTableRelation [`spark_catalog`.`default`.`customers`, org.apache.hadoop.hive.serde2.lazy.LazySimpleSerDe, Data Cols: [CustomerID#5753, Age#5754, Salary#5755, Gender#5756, Country#5757], Partition Cols: []]\n",
      "\n",
      "== Physical Plan ==\n",
      "AdaptiveSparkPlan isFinalPlan=false\n",
      "+- HashAggregate(keys=[], functions=[count(1)], output=[total_customers#5751L])\n",
      "   +- Exchange SinglePartition, ENSURE_REQUIREMENTS, [plan_id=10318]\n",
      "      +- HashAggregate(keys=[], functions=[partial_count(1)], output=[count#5760L])\n",
      "         +- Scan hive spark_catalog.default.customers HiveTableRelation [`spark_catalog`.`default`.`customers`, org.apache.hadoop.hive.serde2.lazy.LazySimpleSerDe, Data Cols: [CustomerID#5753, Age#5754, Salary#5755, Gender#5756, Country#5757], Partition Cols: []]\n",
      "\n"
     ]
    }
   ],
   "source": [
    "df_A = spark.sql(query1_hive)\n",
    "df_A.explain(True)"
   ]
  },
  {
   "cell_type": "code",
   "execution_count": 64,
   "id": "2a95c133-05a9-465f-8809-cfb250bab882",
   "metadata": {},
   "outputs": [
    {
     "name": "stdout",
     "output_type": "stream",
     "text": [
      "+---------------+\n",
      "|total_customers|\n",
      "+---------------+\n",
      "|        5015737|\n",
      "+---------------+\n",
      "\n",
      "Execution time: 0.310 seconds\n"
     ]
    }
   ],
   "source": [
    "start_time = time.time()\n",
    "spark.sql(query1).show()\n",
    "end_time = time.time()\n",
    "\n",
    "print(f\"Execution time: {end_time - start_time:.3f} seconds\")"
   ]
  },
  {
   "cell_type": "code",
   "execution_count": 65,
   "id": "aba1bc64-875d-45a5-9dd9-8f8ab6c4220e",
   "metadata": {},
   "outputs": [
    {
     "name": "stdout",
     "output_type": "stream",
     "text": [
      "+---------------+\n",
      "|total_customers|\n",
      "+---------------+\n",
      "|        5015737|\n",
      "+---------------+\n",
      "\n",
      "Execution time: 1.162 seconds\n"
     ]
    }
   ],
   "source": [
    "start_time = time.time()\n",
    "spark.sql(query1_hive).show()\n",
    "end_time = time.time()\n",
    "\n",
    "print(f\"Execution time: {end_time - start_time:.3f} seconds\")"
   ]
  },
  {
   "cell_type": "code",
   "execution_count": 66,
   "id": "2f5916a3-5bb0-4b53-9c1b-c757850e89a3",
   "metadata": {},
   "outputs": [
    {
     "name": "stdout",
     "output_type": "stream",
     "text": [
      "+----------+-----------+------+------+-------+-----------+------------------+----------------+------------+-----------+------------+--------------------+--------------------+\n",
      "|CustomerID|        Age|Salary|Gender|Country|Totalamount|         Avgamount|Transactioncount|ProductCount|Genderlabel|Countrylabel|            features|     features_scaled|\n",
      "+----------+-----------+------+------+-------+-----------+------------------+----------------+------------+-----------+------------+--------------------+--------------------+\n",
      "|      1572|47.58181818| 32000|  Male|England|     449855| 5292.411764705882|              85|          16|        0.0|         0.0|[47.58181818,3200...|[-1.0057491555947...|\n",
      "|      2904|47.58181818| 45000|Female|Germany|     287505|           4791.75|              60|          12|        1.0|         2.0|[47.58181818,4500...|[-1.0057491555947...|\n",
      "|      3210|47.58181818| 65000|  Male| France|     221945|3414.5384615384614|              65|          12|        0.0|         1.0|[47.58181818,6500...|[-1.0057491555947...|\n",
      "|       467|62.78181818|  9300|Female|Germany|     249815| 4542.090909090909|              55|          11|        1.0|         2.0|[62.78181818,9300...|[1.04468069316363...|\n",
      "|      1090|53.10909091| 55000|  Male| France|     386075| 5939.615384615385|              65|          13|        0.0|         1.0|[53.10909091,5500...|[-0.2601383011329...|\n",
      "|      3959|62.78181818| 17600|Female|England|     427515|         5343.9375|              80|          14|        1.0|         0.0|[62.78181818,1760...|[1.04468069316363...|\n",
      "|      4937|       46.2| 19300|Female|Germany|     352170|          4402.125|              80|          15|        1.0|         2.0|[46.2,19300.0,440...|[-1.1921518688730...|\n",
      "|      1436|58.63636364| 50000|  Male|Germany|     412925| 4857.941176470588|              85|          17|        0.0|         2.0|[58.63636364,5000...|[0.48547255332895...|\n",
      "|      4821|60.01818182| 30000|  Male| France|     255320| 4255.333333333333|              60|          12|        0.0|         1.0|[60.01818182,3000...|[0.67187526660718...|\n",
      "|      6731|62.78181818| 35000|  Male|Germany|     639250| 5327.083333333333|             120|          16|        0.0|         2.0|[62.78181818,3500...|[1.04468069316363...|\n",
      "|      1159|48.96363636| 17600|  Male|Germany|     301920|            6038.4|              50|          10|        0.0|         2.0|[48.96363636,1760...|[-0.8193464423165...|\n",
      "|      1512|64.16363636| 19300|  Male|Germany|     274245| 6094.333333333333|              45|           9|        0.0|         2.0|[64.16363636,1930...|[1.23108340644185...|\n",
      "|       296|50.34545455| 30000|  Male|Germany|     362015|         4525.1875|              80|          14|        0.0|         2.0|[50.34545455,3000...|[-0.6329437276893...|\n",
      "|      6194|66.92727273| 40000|  Male|Germany|     400900| 4716.470588235294|              85|          15|        0.0|         2.0|[66.92727273,4000...|[1.60388883434727...|\n",
      "|      5325|60.01818182| 60000|  Male|England|     272660| 6059.111111111111|              45|           9|        0.0|         0.0|[60.01818182,6000...|[0.67187526660718...|\n",
      "|       675|51.72727273| 60000|Female|England|     267405|            5348.1|              50|          10|        1.0|         0.0|[51.72727273,6000...|[-0.4465410144111...|\n",
      "|      2088|64.16363636| 29000|Female|Germany|     281745|            3756.6|              75|          14|        1.0|         2.0|[64.16363636,2900...|[1.23108340644185...|\n",
      "|      4032|64.16363636| 37000|Female| France|     154900| 3442.222222222222|              45|           8|        1.0|         1.0|[64.16363636,3700...|[1.23108340644185...|\n",
      "|      2069|62.78181818| 40000|  Male| France|     539460| 6346.588235294118|              85|          15|        0.0|         1.0|[62.78181818,4000...|[1.04468069316363...|\n",
      "|      3606|47.58181818| 35000|  Male| France|     405530| 5407.066666666667|              75|          14|        0.0|         1.0|[47.58181818,3500...|[-1.0057491555947...|\n",
      "+----------+-----------+------+------+-------+-----------+------------------+----------------+------------+-----------+------------+--------------------+--------------------+\n",
      "only showing top 20 rows\n",
      "\n"
     ]
    }
   ],
   "source": [
    "df_scaled.show()"
   ]
  },
  {
   "cell_type": "code",
   "execution_count": 67,
   "id": "c9648177-a3d2-45bb-a953-762453307c9d",
   "metadata": {},
   "outputs": [],
   "source": [
    "retail_customer = df_scaled.select(\n",
    "    \"features_scaled\", \"Genderlabel\", \"Countrylabel\", \"Totalamount\"\n",
    ").toPandas()"
   ]
  },
  {
   "cell_type": "code",
   "execution_count": 68,
   "id": "6c94295d-49b0-42a3-a711-3605d5403ce4",
   "metadata": {},
   "outputs": [],
   "source": [
    "\n",
    "# Unpack vector column into multiple features\n",
    "import numpy as np\n",
    "import pandas as pd\n",
    "from sklearn.preprocessing import StandardScaler\n",
    "features_array = np.array(retail_customer['features_scaled'].tolist())\n",
    "\n",
    "# Combine with categorical\n",
    "X = np.hstack([features_array, retail_customer[[\"Genderlabel\", \"Countrylabel\"]].values])\n",
    "y = retail_customer[\"Totalamount\"]"
   ]
  },
  {
   "cell_type": "code",
   "execution_count": 70,
   "id": "608d65c5-38af-455e-86b9-021aa50d6e9e",
   "metadata": {},
   "outputs": [
    {
     "name": "stdout",
     "output_type": "stream",
     "text": [
      "Collecting xgboost\n",
      "  Downloading xgboost-3.0.2-py3-none-manylinux_2_28_x86_64.whl.metadata (2.1 kB)\n",
      "Requirement already satisfied: numpy in /opt/conda/lib/python3.11/site-packages (from xgboost) (1.24.4)\n",
      "Collecting nvidia-nccl-cu12 (from xgboost)\n",
      "  Downloading nvidia_nccl_cu12-2.27.3-py3-none-manylinux2014_x86_64.manylinux_2_17_x86_64.whl.metadata (2.0 kB)\n",
      "Requirement already satisfied: scipy in /opt/conda/lib/python3.11/site-packages (from xgboost) (1.11.3)\n",
      "Downloading xgboost-3.0.2-py3-none-manylinux_2_28_x86_64.whl (253.9 MB)\n",
      "\u001b[2K   \u001b[90m━━━━━━━━━━━━━━━━━━━━━━━━━━━━━━━━━━━━━━━━\u001b[0m \u001b[32m253.9/253.9 MB\u001b[0m \u001b[31m4.7 MB/s\u001b[0m eta \u001b[36m0:00:00\u001b[0m:00:01\u001b[0m00:01\u001b[0m\n",
      "\u001b[?25hDownloading nvidia_nccl_cu12-2.27.3-py3-none-manylinux2014_x86_64.manylinux_2_17_x86_64.whl (322.4 MB)\n",
      "\u001b[2K   \u001b[90m━━━━━━━━━━━━━━━━━━━━━━━━━━━━━━━━━━━━━━━━\u001b[0m \u001b[32m322.4/322.4 MB\u001b[0m \u001b[31m4.2 MB/s\u001b[0m eta \u001b[36m0:00:00\u001b[0m:00:01\u001b[0m00:01\u001b[0m\n",
      "\u001b[?25hInstalling collected packages: nvidia-nccl-cu12, xgboost\n",
      "Successfully installed nvidia-nccl-cu12-2.27.3 xgboost-3.0.2\n"
     ]
    }
   ],
   "source": [
    "!pip install xgboost"
   ]
  },
  {
   "cell_type": "code",
   "execution_count": 77,
   "id": "1cac246d-3ff5-41d3-835a-30dfe34557d2",
   "metadata": {},
   "outputs": [],
   "source": [
    "##TRAIN TEST SPLIT\n",
    "from sklearn.model_selection import train_test_split\n",
    "X_train, X_test, y_train, y_test = train_test_split(\n",
    "    X, y, test_size=0.2, random_state=42)"
   ]
  },
  {
   "cell_type": "code",
   "execution_count": 81,
   "id": "50ce1911-32b4-4eac-86ab-b971909dc956",
   "metadata": {},
   "outputs": [],
   "source": [
    "numeric_features = [\"Age\", \"Salary\", \"Avgamount\", \"Transactioncount\", \"ProductCount\"]\n",
    "categorical_features = [\"Genderlabel\", \"Countrylabel\"]\n",
    "features = numeric_features + categorical_features\n",
    "\n",
    "# Convert to DataFrames\n",
    "X_train = pd.DataFrame(X_train, columns=features)\n",
    "X_test = pd.DataFrame(X_test, columns=features)"
   ]
  },
  {
   "cell_type": "code",
   "execution_count": 82,
   "id": "54691536-7eb0-4791-a3e7-f3259cb5042c",
   "metadata": {},
   "outputs": [],
   "source": [
    "## applying recursive feature elimination with cross validation for feature importance\n",
    "from sklearn.feature_selection import RFECV\n",
    "from xgboost import XGBRegressor\n",
    "from sklearn.model_selection import GridSearchCV\n",
    "\n",
    "# Initialize model\n",
    "xgb = XGBRegressor(random_state=42)\n",
    "\n",
    "# RFECV\n",
    "rfecv = RFECV(estimator=xgb, step=1, cv=5, scoring='neg_root_mean_squared_error')\n",
    "rfecv.fit(X_train, y_train)\n",
    "\n",
    "# Select features using mask\n",
    "X_train_selected = X_train.loc[:, rfecv.support_]\n",
    "X_test_selected = X_test.loc[:, rfecv.support_]"
   ]
  },
  {
   "cell_type": "code",
   "execution_count": 83,
   "id": "5137b96d-82a7-4467-853d-15755de5304e",
   "metadata": {},
   "outputs": [
    {
     "name": "stdout",
     "output_type": "stream",
     "text": [
      "Selected Features: ['Avgamount', 'Transactioncount']\n"
     ]
    }
   ],
   "source": [
    "print(\"Selected Features:\", X_train_selected.columns.tolist())"
   ]
  },
  {
   "cell_type": "code",
   "execution_count": 84,
   "id": "f0f8eeff-ffc2-4c73-ab34-e4a069b72919",
   "metadata": {},
   "outputs": [
    {
     "name": "stdout",
     "output_type": "stream",
     "text": [
      "Best parameters: {'learning_rate': 0.3, 'max_depth': 7, 'n_estimators': 200}\n"
     ]
    }
   ],
   "source": [
    "## apllying grid search CV for hyper parameter tuning\n",
    "param_grid = {\n",
    "    'n_estimators': [100, 200],\n",
    "    'learning_rate': [0.1, 0.2, 0.3],\n",
    "    'max_depth': [3, 5, 7]\n",
    "}\n",
    "\n",
    "grid = GridSearchCV(\n",
    "    XGBRegressor(objective='reg:squarederror', random_state=42),\n",
    "    param_grid,\n",
    "    scoring='neg_root_mean_squared_error',\n",
    "    cv=5,\n",
    "    n_jobs=-1\n",
    ")\n",
    "\n",
    "grid.fit(X_train_selected, y_train)\n",
    "print(\"Best parameters:\", grid.best_params_)"
   ]
  },
  {
   "cell_type": "code",
   "execution_count": 92,
   "id": "86c80121-9039-422d-94e9-cc5760b9a279",
   "metadata": {},
   "outputs": [
    {
     "name": "stdout",
     "output_type": "stream",
     "text": [
      "MAE: 873.06\n",
      "Test RMSE: 2128.49\n",
      "Test R² Score: 0.9996\n"
     ]
    }
   ],
   "source": [
    "## performance metrics\n",
    "from sklearn.metrics import mean_squared_error, mean_absolute_error\n",
    "y_pred = grid.predict(X_test_selected)\n",
    "rmse = np.sqrt(mean_squared_error(y_test, y_pred))\n",
    "mae = mean_absolute_error(y_test, y_pred)\n",
    "r2 = r2_score(y_test, y_pred)\n",
    "\n",
    "print(f\"MAE: {mae:.2f}\")\n",
    "print(f\"Test RMSE: {rmse:.2f}\")\n",
    "print(f\"Test R² Score: {r2:.4f}\")"
   ]
  },
  {
   "cell_type": "code",
   "execution_count": 93,
   "id": "a11f3a1a-0c50-4ebb-b720-0f4591f17293",
   "metadata": {},
   "outputs": [],
   "source": [
    "import matplotlib.pyplot as plt\n",
    "import seaborn as sns"
   ]
  },
  {
   "cell_type": "code",
   "execution_count": 94,
   "id": "704fb289-cf6a-4c0c-9dd7-fa88560f5a13",
   "metadata": {},
   "outputs": [
    {
     "data": {
      "image/png": "[encoded data removed]",
      "text/plain": [
       "<Figure size 640x480 with 1 Axes>"
      ]
     },
     "metadata": {},
     "output_type": "display_data"
    }
   ],
   "source": [
    "from xgboost import plot_importance\n",
    "xgb_best = grid.best_estimator_\n",
    "plot_importance(xgb_best, importance_type='gain')\n",
    "plt.title(\"Feature Importance (Gain)\")\n",
    "plt.show()"
   ]
  },
  {
   "cell_type": "code",
   "execution_count": 90,
   "id": "cee45dcf-c7dc-46f6-8fab-60da60dac9cb",
   "metadata": {},
   "outputs": [
    {
     "data": {
      "image/png": "[encoded data removed]",
      "text/plain": [
       "<Figure size 800x600 with 1 Axes>"
      ]
     },
     "metadata": {},
     "output_type": "display_data"
    }
   ],
   "source": [
    "plt.figure(figsize=(8, 6))\n",
    "sns.scatterplot(x=y_test, y=y_pred)\n",
    "plt.xlabel(\"Actual TotalAmount\")\n",
    "plt.ylabel(\"Predicted TotalAmount\")\n",
    "plt.title(\"Actual vs Predicted\")\n",
    "plt.plot([y.min(), y.max()], [y.min(), y.max()], 'r--')\n",
    "plt.show()"
   ]
  },
  {
   "cell_type": "code",
   "execution_count": 95,
   "id": "4a99c86b-46f0-43f3-9654-4c3ec8d64888",
   "metadata": {},
   "outputs": [
    {
     "name": "stdout",
     "output_type": "stream",
     "text": [
      "Cross-validated R² scores: [0.9989998  0.99900279 0.99876573 0.9992532  0.99771299]\n",
      "Mean CV R²: 0.9987469024628345\n"
     ]
    }
   ],
   "source": [
    "## to check wether there's overfitting\n",
    "from sklearn.model_selection import cross_val_score\n",
    "from sklearn.model_selection import KFold\n",
    "\n",
    "cv = KFold(n_splits=5, shuffle=True, random_state=42)\n",
    "cv_scores = cross_val_score(model, X, y, cv=cv, scoring='r2')\n",
    "\n",
    "print(\"Cross-validated R² scores:\", cv_scores)\n",
    "print(\"Mean CV R²:\", np.mean(cv_scores))"
   ]
  },
  {
   "cell_type": "code",
   "execution_count": 96,
   "id": "6a9b090e-0561-4737-802f-36c532240bcd",
   "metadata": {},
   "outputs": [],
   "source": [
    "##Conclusion: No signs of overfitting High and stable performance.good generalization ability.No significant performance drop across folds."
   ]
  },
  {
   "cell_type": "code",
   "execution_count": null,
   "id": "a7a8b84b-3a94-410b-8cf8-2b129d75cdd1",
   "metadata": {},
   "outputs": [],
   "source": []
  }
 ],
 "metadata": {
  "kernelspec": {
   "display_name": "PySpark",
   "language": "python",
   "name": "pyspark"
  },
  "language_info": {
   "codemirror_mode": {
    "name": "ipython",
    "version": 3
   },
   "file_extension": ".py",
   "mimetype": "text/x-python",
   "name": "python",
   "nbconvert_exporter": "python",
   "pygments_lexer": "ipython3",
   "version": "3.11.6"
  }
 },
 "nbformat": 4,
 "nbformat_minor": 5
}
